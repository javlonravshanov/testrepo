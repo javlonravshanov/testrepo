{
 "cells": [
  {
   "cell_type": "markdown",
   "id": "7940079d",
   "metadata": {},
   "source": [
    "# Data Science tools and Ecosystem\n",
    "\n",
    "\n",
    "\n",
    "\n",
    "\n"
   ]
  },
  {
   "cell_type": "markdown",
   "id": "1359ffec",
   "metadata": {},
   "source": [
    "## In this notebook, Data science tools and Ecosystem are summerized"
   ]
  },
  {
   "cell_type": "markdown",
   "id": "6fc47286",
   "metadata": {},
   "source": [
    "### Some of the popular languages used in Data Science are:\n",
    "1. Python\n",
    "2. R\n",
    "3. Julia"
   ]
  },
  {
   "cell_type": "markdown",
   "id": "4eba80cc",
   "metadata": {},
   "source": [
    "### Some of the commonly used libraries used by Data scientists include:\n",
    "1. Numpy\n",
    "2. Pandas\n",
    "3. TensorFlow"
   ]
  },
  {
   "cell_type": "markdown",
   "id": "036ed4b9",
   "metadata": {},
   "source": [
    "| Data Science Tools |\n",
    "|--------------------|\n",
    "| Apache Spark |\n",
    "| Apache Hadoop |\n",
    "| TensorFlow |"
   ]
  },
  {
   "cell_type": "markdown",
   "id": "b18f297f",
   "metadata": {},
   "source": [
    "### Below are a few examples of evaluating arithmetic expressions in Python"
   ]
  },
  {
   "cell_type": "code",
   "execution_count": 2,
   "id": "3a9f8a91",
   "metadata": {},
   "outputs": [
    {
     "data": {
      "text/plain": [
       "17"
      ]
     },
     "execution_count": 2,
     "metadata": {},
     "output_type": "execute_result"
    }
   ],
   "source": [
    "#  This a simple arithmetic expression to mutiply then add integers\n",
    "(3*4)+5"
   ]
  },
  {
   "cell_type": "code",
   "execution_count": 3,
   "id": "08f24f0c",
   "metadata": {},
   "outputs": [],
   "source": [
    "# This will convert 200 minutes to hours by diving by 60"
   ]
  },
  {
   "cell_type": "code",
   "execution_count": 7,
   "id": "122c5a90",
   "metadata": {},
   "outputs": [
    {
     "name": "stdout",
     "output_type": "stream",
     "text": [
      "3.33\n"
     ]
    }
   ],
   "source": [
    "one_hour_in_minutes = 60\n",
    "given_time_in_minutes = 200\n",
    "given_time_in_hours = round(given_time_in_minutes / one_hour_in_minutes, 2)\n",
    "print(given_time_in_hours)"
   ]
  },
  {
   "cell_type": "markdown",
   "id": "214a760a",
   "metadata": {},
   "source": [
    "# Objectives:\n"
   ]
  },
  {
   "cell_type": "markdown",
   "id": "1594515e",
   "metadata": {},
   "source": [
    "* Data science Tools\n",
    "* Data Science libraries\n",
    "* Ecosystem\n",
    "* Popular languages"
   ]
  },
  {
   "cell_type": "markdown",
   "id": "d0e14d6c",
   "metadata": {},
   "source": [
    "### Author:\n",
    "Javlon Ravshanov"
   ]
  },
  {
   "cell_type": "code",
   "execution_count": null,
   "id": "2870fc14",
   "metadata": {},
   "outputs": [],
   "source": []
  }
 ],
 "metadata": {
  "kernelspec": {
   "display_name": "Python 3 (ipykernel)",
   "language": "python",
   "name": "python3"
  },
  "language_info": {
   "codemirror_mode": {
    "name": "ipython",
    "version": 3
   },
   "file_extension": ".py",
   "mimetype": "text/x-python",
   "name": "python",
   "nbconvert_exporter": "python",
   "pygments_lexer": "ipython3",
   "version": "3.11.5"
  }
 },
 "nbformat": 4,
 "nbformat_minor": 5
}
